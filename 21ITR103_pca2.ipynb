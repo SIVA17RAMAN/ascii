{
  "nbformat": 4,
  "nbformat_minor": 0,
  "metadata": {
    "colab": {
      "provenance": []
    },
    "kernelspec": {
      "name": "python3",
      "display_name": "Python 3"
    },
    "language_info": {
      "name": "python"
    }
  },
  "cells": [
    {
      "cell_type": "code",
      "execution_count": 2,
      "metadata": {
        "colab": {
          "base_uri": "https://localhost:8080/"
        },
        "id": "dJyHtNAuzMAf",
        "outputId": "e3ab88a0-cb24-4697-f37f-29fd8cef953c"
      },
      "outputs": [
        {
          "output_type": "stream",
          "name": "stdout",
          "text": [
            "Principal Component 1 (PC1): [-4.30518692  3.73612869  5.69282771 -5.12376947]\n",
            "Principal Component 2 (PC2): [ 1.92752836  2.50825486 -2.20038921 -2.23539401]\n"
          ]
        }
      ],
      "source": [
        "import numpy as np\n",
        "\n",
        "# Define the data\n",
        "x = np.array([4, 8, 13, 7])\n",
        "y = np.array([11, 4, 5, 14])\n",
        "\n",
        "# Step 1: Center the data by subtracting the mean\n",
        "xm = np.mean(x)\n",
        "ym = np.mean(y)\n",
        "x_centered = x - xm\n",
        "y_centered = y - ym\n",
        "\n",
        "# Step 2: Construct the covariance matrix\n",
        "cov_matrix = np.cov(x_centered, y_centered)\n",
        "\n",
        "# Step 3: Calculate the eigenvalues and eigenvectors of the covariance matrix\n",
        "eigenvalues, eigenvectors = np.linalg.eig(cov_matrix)\n",
        "\n",
        "# Sort eigenvectors based on eigenvalues\n",
        "idx = np.argsort(eigenvalues)[::-1]\n",
        "eigenvalues = eigenvalues[idx]\n",
        "eigenvectors = eigenvectors[:, idx]\n",
        "\n",
        "# Step 4: Project the centered data onto the eigenvectors (Principal Components)\n",
        "pc1 = np.dot(eigenvectors[:, 0], np.vstack((x_centered, y_centered)))\n",
        "pc2 = np.dot(eigenvectors[:, 1], np.vstack((x_centered, y_centered)))\n",
        "\n",
        "# Print the principal components\n",
        "print(\"Principal Component 1 (PC1):\", pc1)\n",
        "print(\"Principal Component 2 (PC2):\", pc2)\n"
      ]
    }
  ]
}