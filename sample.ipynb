import pandas as pd
import matplotlib.pyplot as plt
from sklearn.decomposition import PCA
from sklearn.preprocessing import StandardScaler

# Sample data
data = {
    'Feature1': [1, 2, 3, 4, 5],
    'Feature2': [5, 4, 3, 2, 1],
    'Feature3': [2, 3, 4, 5, 6]
}

# Create DataFrame
df = pd.DataFrame(data)

# Standardize the features
scaler = StandardScaler()
df_scaled = scaler.fit_transform(df)

# Apply PCA
pca = PCA(n_components=2)  # Choose the number of components
pca_result = pca.fit_transform(df_scaled)

# Create DataFrame with PCA results
pca_df = pd.DataFrame(data=pca_result, columns=['PC1', 'PC2'])

# Concatenate original DataFrame with PCA DataFrame
final_df = pd.concat([df, pca_df], axis=1)

# Plot scatter plot
plt.figure(figsize=(8, 6))
plt.scatter(final_df['PC1'], final_df['PC2'], color='blue')
plt.title('Scatter plot of PCA')
plt.xlabel('Principal Component 1 (PC1)')
plt.ylabel('Principal Component 2 (PC2)')
plt.grid(True)
plt.show()
