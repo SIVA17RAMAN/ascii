{
  "nbformat": 4,
  "nbformat_minor": 0,
  "metadata": {
    "colab": {
      "provenance": []
    },
    "kernelspec": {
      "name": "python3",
      "display_name": "Python 3"
    },
    "language_info": {
      "name": "python"
    }
  },
  "cells": [
    {
      "cell_type": "code",
      "execution_count": null,
      "metadata": {
        "id": "wH4hMSczmPSk"
      },
      "outputs": [],
      "source": [
        "import numpy as np\n",
        "import pandas as pd\n",
        "from sklearn.datasets import load_breast_cancer\n",
        "from sklearn.model_selection import KFold\n",
        "from sklearn.ensemble import RandomForestClassifier"
      ]
    },
    {
      "cell_type": "code",
      "source": [
        "df = load_breast_cancer()\n",
        "X = df.data\n",
        "y = df.target"
      ],
      "metadata": {
        "id": "HrdxrkkFzfrO"
      },
      "execution_count": null,
      "outputs": []
    },
    {
      "cell_type": "code",
      "source": [
        "clf = RandomForestClassifier(n_estimators=100)\n",
        "k_fold = KFold(n_splits=5, shuffle=True, random_state=42)"
      ],
      "metadata": {
        "id": "WRmgPM1Pzrs-"
      },
      "execution_count": null,
      "outputs": []
    },
    {
      "cell_type": "code",
      "source": [
        "cv_scores = []\n",
        "for train_index, test_index in k_fold.split(X):\n",
        "    X_train, X_test = X[train_index], X[test_index]\n",
        "    y_train, y_test = y[train_index], y[test_index]\n",
        "    clf.fit(X_train, y_train)\n",
        "    cv_scores.append(clf.score(X_test, y_test))\n"
      ],
      "metadata": {
        "id": "ojkJ-jmCzw6b"
      },
      "execution_count": null,
      "outputs": []
    },
    {
      "cell_type": "code",
      "source": [
        "print(\"Cross-Validation Scores:\", cv_scores)\n",
        "print(\"Mean CV Accuracy:\", np.mean(cv_scores))"
      ],
      "metadata": {
        "id": "bnQ4Xbg_z02x",
        "outputId": "e5efb566-f55c-4679-99c2-5fcf52f74ceb",
        "colab": {
          "base_uri": "https://localhost:8080/"
        }
      },
      "execution_count": null,
      "outputs": [
        {
          "output_type": "stream",
          "name": "stdout",
          "text": [
            "Cross-Validation Scores: [0.9649122807017544, 0.9736842105263158, 0.9473684210526315, 0.9473684210526315, 0.9646017699115044]\n",
            "Mean CV Accuracy: 0.9595870206489675\n"
          ]
        }
      ]
    }
  ]
}